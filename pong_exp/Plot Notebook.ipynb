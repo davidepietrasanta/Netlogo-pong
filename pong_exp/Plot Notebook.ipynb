{
  "nbformat": 4,
  "nbformat_minor": 0,
  "metadata": {
    "colab": {
      "name": "plot_function.ipynb",
      "provenance": [],
      "collapsed_sections": []
    },
    "kernelspec": {
      "name": "python3",
      "display_name": "Python 3"
    },
    "language_info": {
      "name": "python"
    }
  },
  "cells": [
    {
      "cell_type": "code",
      "execution_count": 1,
      "metadata": {
        "colab": {
          "base_uri": "https://localhost:8080/"
        },
        "id": "LtxLTb7s4oaz",
        "outputId": "0d8bfb88-ec5b-4668-ad51-44ce7750fa16"
      },
      "outputs": [
        {
          "output_type": "stream",
          "name": "stdout",
          "text": [
            "Looking in indexes: https://pypi.org/simple, https://us-python.pkg.dev/colab-wheels/public/simple/\n",
            "Requirement already satisfied: kaleido==0.1.0 in /usr/local/lib/python3.7/dist-packages (0.1.0)\n",
            "Looking in indexes: https://pypi.org/simple, https://us-python.pkg.dev/colab-wheels/public/simple/\n",
            "Requirement already satisfied: psutil in /usr/local/lib/python3.7/dist-packages (5.4.8)\n"
          ]
        }
      ],
      "source": [
        "%pip install kaleido==0.1.0\n",
        "%pip install psutil"
      ]
    },
    {
      "cell_type": "code",
      "source": [
        "import pandas as pd\n",
        "import plotly.express as px\n",
        "import plotly.io as pio\n",
        "from os.path import join\n",
        "\n",
        "def plot_dir(dir_path='/content', plot=False):\n",
        "  \n",
        "  files = [\n",
        "           'Average_paddle_bounces_per_point',\n",
        "           'Average_paddle_bounces_per_point_(smooth)',\n",
        "           'Average_reward_per_episode']\n",
        "\n",
        "  for file in files:\n",
        "    path_file = join(dir_path, 'pong_'+file+'.csv')\n",
        "    df = pd.read_csv(path_file)\n",
        "    if \"smooth\" in file:\n",
        "      df['x'] = df['x']*50\n",
        "    fig = px.line(df, \n",
        "                  x = 'x', y = 'y',\n",
        "                  title=file,\n",
        "                  labels={'x': 'Episodes', 'y':''})      \n",
        "    path_img = join(dir_path, file +'.png')\n",
        "    pio.write_image(fig, path_img)\n",
        "    if plot:\n",
        "      fig.show()"
      ],
      "metadata": {
        "id": "c2dq-etK977B"
      },
      "execution_count": 15,
      "outputs": []
    },
    {
      "cell_type": "code",
      "source": [
        "plot_dir()"
      ],
      "metadata": {
        "id": "gKL2Cfx5aymM"
      },
      "execution_count": 17,
      "outputs": []
    }
  ]
}